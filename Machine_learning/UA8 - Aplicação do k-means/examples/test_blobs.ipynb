{
 "cells": [
  {
   "cell_type": "code",
   "execution_count": 1,
   "metadata": {},
   "outputs": [
    {
     "name": "stderr",
     "output_type": "stream",
     "text": [
      "c:\\Users\\Lenovo\\AppData\\Local\\Programs\\Python\\Python310\\lib\\site-packages\\sklearn\\cluster\\_kmeans.py:1416: FutureWarning: The default value of `n_init` will change from 10 to 'auto' in 1.4. Set the value of `n_init` explicitly to suppress the warning\n",
      "  super()._check_params_vs_input(X, default_n_init=10)\n"
     ]
    },
    {
     "name": "stdout",
     "output_type": "stream",
     "text": [
      "Índice de Calinski-Harabasz para X1: 594.6509491576206\n",
      "Índice de Calinski-Harabasz para X2: 343.4661212143513\n",
      "Índice de Calinski-Harabasz para X3: 280.6518504226164\n",
      "Índice de Calinski-Harabasz para X4: 303.50192187104165\n",
      "Conjunto de dados com o melhor índice: 1\n"
     ]
    },
    {
     "name": "stderr",
     "output_type": "stream",
     "text": [
      "c:\\Users\\Lenovo\\AppData\\Local\\Programs\\Python\\Python310\\lib\\site-packages\\sklearn\\cluster\\_kmeans.py:1416: FutureWarning: The default value of `n_init` will change from 10 to 'auto' in 1.4. Set the value of `n_init` explicitly to suppress the warning\n",
      "  super()._check_params_vs_input(X, default_n_init=10)\n",
      "c:\\Users\\Lenovo\\AppData\\Local\\Programs\\Python\\Python310\\lib\\site-packages\\sklearn\\cluster\\_kmeans.py:1416: FutureWarning: The default value of `n_init` will change from 10 to 'auto' in 1.4. Set the value of `n_init` explicitly to suppress the warning\n",
      "  super()._check_params_vs_input(X, default_n_init=10)\n",
      "c:\\Users\\Lenovo\\AppData\\Local\\Programs\\Python\\Python310\\lib\\site-packages\\sklearn\\cluster\\_kmeans.py:1416: FutureWarning: The default value of `n_init` will change from 10 to 'auto' in 1.4. Set the value of `n_init` explicitly to suppress the warning\n",
      "  super()._check_params_vs_input(X, default_n_init=10)\n"
     ]
    }
   ],
   "source": [
    "from sklearn.cluster import KMeans\n",
    "from sklearn.datasets import make_blobs\n",
    "from sklearn.metrics import calinski_harabasz_score\n",
    "import numpy as np\n",
    "\n",
    "# Função para calcular o índice de Calinski-Harabasz\n",
    "def calculate_calinski_harabasz(X, labels):\n",
    "    return calinski_harabasz_score(X, labels)\n",
    "\n",
    "# Função para treinar o algoritmo K-means e calcular o índice de Calinski-Harabasz\n",
    "def train_and_evaluate(X, random_state):\n",
    "    kmeans = KMeans(n_clusters=4, random_state=random_state)\n",
    "    labels = kmeans.fit_predict(X)\n",
    "    ch_score = calculate_calinski_harabasz(X, labels)\n",
    "    return ch_score\n",
    "\n",
    "# Conjuntos de dados\n",
    "X1, y1 = make_blobs(n_samples=200, n_features=4, centers=4, cluster_std=2, random_state=150)\n",
    "X2, y2 = make_blobs(n_samples=200, n_features=4, centers=4, cluster_std=2, random_state=250)\n",
    "X3, y3 = make_blobs(n_samples=200, n_features=4, centers=4, cluster_std=2, random_state=350)\n",
    "X4, y4 = make_blobs(n_samples=200, n_features=4, centers=4, cluster_std=2, random_state=450)\n",
    "\n",
    "# Avaliação dos conjuntos de dados\n",
    "ch_score_1 = train_and_evaluate(X1, random_state=150)\n",
    "ch_score_2 = train_and_evaluate(X2, random_state=250)\n",
    "ch_score_3 = train_and_evaluate(X3, random_state=350)\n",
    "ch_score_4 = train_and_evaluate(X4, random_state=450)\n",
    "\n",
    "# Exibição dos resultados\n",
    "print(\"Índice de Calinski-Harabasz para X1:\", ch_score_1)\n",
    "print(\"Índice de Calinski-Harabasz para X2:\", ch_score_2)\n",
    "print(\"Índice de Calinski-Harabasz para X3:\", ch_score_3)\n",
    "print(\"Índice de Calinski-Harabasz para X4:\", ch_score_4)\n",
    "\n",
    "# Identificação do conjunto com o melhor índice\n",
    "best_index = np.argmax([ch_score_1, ch_score_2, ch_score_3, ch_score_4])\n",
    "best_dataset = [X1, X2, X3, X4][best_index]\n",
    "print(\"Conjunto de dados com o melhor índice:\", best_index + 1)\n"
   ]
  }
 ],
 "metadata": {
  "kernelspec": {
   "display_name": "Python 3",
   "language": "python",
   "name": "python3"
  },
  "language_info": {
   "codemirror_mode": {
    "name": "ipython",
    "version": 3
   },
   "file_extension": ".py",
   "mimetype": "text/x-python",
   "name": "python",
   "nbconvert_exporter": "python",
   "pygments_lexer": "ipython3",
   "version": "3.10.11"
  }
 },
 "nbformat": 4,
 "nbformat_minor": 2
}
