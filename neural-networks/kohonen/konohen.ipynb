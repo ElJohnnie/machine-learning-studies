{
 "cells": [
  {
   "cell_type": "markdown",
   "metadata": {},
   "source": [
    "A Rede de Kohonen , também conhecida como SOM , sigla para Mapa Auto-organizável , é um tipo muito especial de rede neural não supervisionada que muitas pessoas têm usado muitas vezes para reduzir a dimensionalidade de dados em alta dimensão e criar uma notação visualização. Vamos olhar para um simples exemplo de implementação de uma Rede de Kohonen no Python. Portanto, usaremos a biblioteca numpy ."
   ]
  },
  {
   "cell_type": "code",
   "execution_count": null,
   "metadata": {},
   "outputs": [],
   "source": [
    "import numpy as np\n",
    "\n",
    "class KohonenNetwork:\n",
    "    def __init__(self, input_size, output_size, learning_rate=0.1, sigma=1.0):\n",
    "        self.input_size = input_size\n",
    "        self.output_size = output_size\n",
    "        self.learning_rate = learning_rate\n",
    "        self.sigma = sigma\n",
    "        self.weights = np.random.rand(output_size, input_size)\n",
    "\n",
    "    def find_best_matching_unit(self, input_vector):\n",
    "        # Calcula as distâncias euclidianas entre o vetor de entrada e os pesos\n",
    "        distances = np.linalg.norm(self.weights - input_vector, axis=1)\n",
    "        # Retorna o índice da unidade de melhor correspondência (BMU)\n",
    "        return np.argmin(distances)\n",
    "\n",
    "    def update_weights(self, input_vector, bmu_index):\n",
    "        # Calcula a distância de Manhattan entre a BMU e todos os neurônios\n",
    "        distances = np.abs(np.arange(self.output_size) - bmu_index)\n",
    "        # Calcula o fator de vizinhança baseado na distância da BMU\n",
    "        neighborhood_factor = np.exp(-distances / (2 * self.sigma**2))\n",
    "        # Atualiza os pesos dos neurônios usando o fator de aprendizado e o fator de vizinhança\n",
    "        self.weights += self.learning_rate * neighborhood_factor[:, np.newaxis] * (input_vector - self.weights)\n",
    "\n",
    "    def train(self, input_data, epochs):\n",
    "        for epoch in range(epochs):\n",
    "            for input_vector in input_data:\n",
    "                bmu_index = self.find_best_matching_unit(input_vector)\n",
    "                self.update_weights(input_vector, bmu_index)\n",
    "            # Reduz o tamanho da vizinhança ao longo das épocas\n",
    "            self.sigma *= 0.9\n",
    "            # Reduz a taxa de aprendizado ao longo das épocas\n",
    "            self.learning_rate *= 0.9\n",
    "\n",
    "# Exemplo de uso\n",
    "if __name__ == \"__main__\":\n",
    "    # Dados de entrada (4 pontos em 2D)\n",
    "    input_data = np.array([[1, 2], [5, 3], [2, 6], [8, 7]])\n",
    "\n",
    "    # Criando e treinando a Rede de Kohonen\n",
    "    input_size = input_data.shape[1]\n",
    "    output_size = 3  # Número de neurônios na camada de saída\n",
    "    kohonen_net = KohonenNetwork(input_size, output_size)\n",
    "    kohonen_net.train(input_data, epochs=100)\n",
    "\n",
    "    # Imprimindo os pesos finais dos neurônios\n",
    "    print(\"Pesos finais dos neurônios:\")\n",
    "    print(kohonen_net.weights)\n"
   ]
  },
  {
   "cell_type": "markdown",
   "metadata": {},
   "source": [
    "Neste exemplo:\n",
    "\n",
    "    KohonenNetwork é a classe que representa a Rede de Kohonen.\n",
    "    find_best_matching_unit encontra a unidade de melhor correspondência (BMU) para um dado vetor de entrada.\n",
    "    update_weights atualiza os pesos dos neurônios com base na BMU e na vizinhança.\n",
    "    train é responsável pelo treinamento da rede com os dados de entrada fornecido"
   ]
  }
 ],
 "metadata": {
  "kernelspec": {
   "display_name": "Python 3",
   "language": "python",
   "name": "python3"
  },
  "language_info": {
   "name": "python",
   "version": "3.11.8"
  }
 },
 "nbformat": 4,
 "nbformat_minor": 2
}
