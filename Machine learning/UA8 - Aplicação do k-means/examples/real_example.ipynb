{
 "cells": [
  {
   "cell_type": "code",
   "execution_count": 1,
   "metadata": {},
   "outputs": [
    {
     "name": "stderr",
     "output_type": "stream",
     "text": [
      "c:\\Users\\Lenovo\\AppData\\Local\\Programs\\Python\\Python310\\lib\\site-packages\\sklearn\\cluster\\_kmeans.py:1416: FutureWarning: The default value of `n_init` will change from 10 to 'auto' in 1.4. Set the value of `n_init` explicitly to suppress the warning\n",
      "  super()._check_params_vs_input(X, default_n_init=10)\n",
      "c:\\Users\\Lenovo\\AppData\\Local\\Programs\\Python\\Python310\\lib\\site-packages\\sklearn\\cluster\\_kmeans.py:1420: FutureWarning: algorithm='full' is deprecated, it will be removed in 1.3. Using 'lloyd' instead.\n",
      "  warnings.warn(\n",
      "c:\\Users\\Lenovo\\AppData\\Local\\Programs\\Python\\Python310\\lib\\site-packages\\sklearn\\cluster\\_kmeans.py:1416: FutureWarning: The default value of `n_init` will change from 10 to 'auto' in 1.4. Set the value of `n_init` explicitly to suppress the warning\n",
      "  super()._check_params_vs_input(X, default_n_init=10)\n"
     ]
    },
    {
     "name": "stdout",
     "output_type": "stream",
     "text": [
      "Tempo algorítmo full:   0.190704\n",
      "Tempo algorítmo elkan:   0.125002\n",
      "Silhueta média full: 0.449762\n",
      "Silhueta média elkan: 0.449762\n"
     ]
    }
   ],
   "source": [
    "# Importação das libs\n",
    "from sklearn.datasets import make_blobs\n",
    "from sklearn.cluster import KMeans\n",
    "import time as time\n",
    "from sklearn.metrics import silhouette_score\n",
    "\n",
    "# Desustruturando os valores do make_blobs\n",
    "\n",
    "X, y = make_blobs(n_samples=10000, n_features=2, centers=3, cluster_std=3, shuffle=True, center_box=(-10,10), random_state=50)\n",
    "\n",
    "\n",
    "tiF = time.time()\n",
    "kmF = KMeans(init='k-means++', n_clusters=3, algorithm='full', random_state=50)\n",
    "prevsF = kmF.fit_predict(X)\n",
    "tfF = time.time()\n",
    "\n",
    "tiE = time.time()\n",
    "kmE = KMeans(init='k-means++', n_clusters=3, algorithm='elkan',random_state=50)\n",
    "prevsE = kmE.fit_predict(X)\n",
    "tfE = time.time()\n",
    "\n",
    "print(\"Tempo algorítmo full: {0:10f}\".format(tfF - tiF))\n",
    "print(\"Tempo algorítmo elkan: {0:10f}\".format(tfE - tiE))\n",
    "print(\"Silhueta média full: {0:5f}\".format(silhouette_score(X, prevsF)))\n",
    "print(\"Silhueta média elkan: {0:5f}\".format(silhouette_score(X, prevsE)))\n"
   ]
  }
 ],
 "metadata": {
  "kernelspec": {
   "display_name": "Python 3",
   "language": "python",
   "name": "python3"
  },
  "language_info": {
   "codemirror_mode": {
    "name": "ipython",
    "version": 3
   },
   "file_extension": ".py",
   "mimetype": "text/x-python",
   "name": "python",
   "nbconvert_exporter": "python",
   "pygments_lexer": "ipython3",
   "version": "3.10.11"
  }
 },
 "nbformat": 4,
 "nbformat_minor": 2
}
